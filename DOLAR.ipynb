{
 "cells": [
  {
   "cell_type": "code",
   "execution_count": null,
   "metadata": {
    "colab": {
     "base_uri": "https://localhost:8080/"
    },
    "id": "0zYRmJJbbmYl",
    "outputId": "778e955d-86e7-4f17-854c-56cae80c7236"
   },
   "outputs": [
    {
     "name": "stdout",
     "output_type": "stream",
     "text": [
      "Get:1 https://cloud.r-project.org/bin/linux/ubuntu bionic-cran40/ InRelease [3,626 B]\n",
      "Ign:2 https://developer.download.nvidia.com/compute/cuda/repos/ubuntu1804/x86_64  InRelease\n",
      "Ign:3 https://developer.download.nvidia.com/compute/machine-learning/repos/ubuntu1804/x86_64  InRelease\n",
      "Hit:4 https://developer.download.nvidia.com/compute/cuda/repos/ubuntu1804/x86_64  Release\n",
      "Hit:5 https://developer.download.nvidia.com/compute/machine-learning/repos/ubuntu1804/x86_64  Release\n",
      "Get:6 http://security.ubuntu.com/ubuntu bionic-security InRelease [88.7 kB]\n",
      "Get:7 http://ppa.launchpad.net/c2d4u.team/c2d4u4.0+/ubuntu bionic InRelease [15.9 kB]\n",
      "Hit:8 http://archive.ubuntu.com/ubuntu bionic InRelease\n",
      "Get:9 http://archive.ubuntu.com/ubuntu bionic-updates InRelease [88.7 kB]\n",
      "Hit:11 http://ppa.launchpad.net/cran/libgit2/ubuntu bionic InRelease\n",
      "Get:13 http://archive.ubuntu.com/ubuntu bionic-backports InRelease [74.6 kB]\n",
      "Hit:14 http://ppa.launchpad.net/deadsnakes/ppa/ubuntu bionic InRelease\n",
      "Hit:15 http://ppa.launchpad.net/graphics-drivers/ppa/ubuntu bionic InRelease\n",
      "Get:16 http://ppa.launchpad.net/c2d4u.team/c2d4u4.0+/ubuntu bionic/main Sources [1,739 kB]\n",
      "Get:17 http://security.ubuntu.com/ubuntu bionic-security/universe amd64 Packages [1,392 kB]\n",
      "Get:18 http://archive.ubuntu.com/ubuntu bionic-updates/universe amd64 Packages [2,163 kB]\n",
      "Get:19 http://security.ubuntu.com/ubuntu bionic-security/main amd64 Packages [1,963 kB]\n",
      "Get:20 http://ppa.launchpad.net/c2d4u.team/c2d4u4.0+/ubuntu bionic/main amd64 Packages [889 kB]\n",
      "Get:21 http://archive.ubuntu.com/ubuntu bionic-updates/main amd64 Packages [2,394 kB]\n",
      "Fetched 10.8 MB in 4s (3,043 kB/s)\n",
      "Reading package lists... Done\n",
      "update-alternatives: using /usr/lib/jvm/java-8-openjdk-amd64/jre/bin/java to provide /usr/bin/java (java) in manual mode\n",
      "openjdk version \"1.8.0_282\"\n",
      "OpenJDK Runtime Environment (build 1.8.0_282-8u282-b08-0ubuntu1~18.04-b08)\n",
      "OpenJDK 64-Bit Server VM (build 25.282-b08, mixed mode)\n",
      "Collecting pyspark\n",
      "\u001b[?25l  Downloading https://files.pythonhosted.org/packages/27/67/5158f846202d7f012d1c9ca21c3549a58fd3c6707ae8ee823adcaca6473c/pyspark-3.0.2.tar.gz (204.8MB)\n",
      "\u001b[K     |████████████████████████████████| 204.8MB 63kB/s \n",
      "\u001b[?25hCollecting py4j==0.10.9\n",
      "\u001b[?25l  Downloading https://files.pythonhosted.org/packages/9e/b6/6a4fb90cd235dc8e265a6a2067f2a2c99f0d91787f06aca4bcf7c23f3f80/py4j-0.10.9-py2.py3-none-any.whl (198kB)\n",
      "\u001b[K     |████████████████████████████████| 204kB 20.0MB/s \n",
      "\u001b[?25hBuilding wheels for collected packages: pyspark\n",
      "  Building wheel for pyspark (setup.py) ... \u001b[?25l\u001b[?25hdone\n",
      "  Created wheel for pyspark: filename=pyspark-3.0.2-py2.py3-none-any.whl size=205186687 sha256=cd063997f63521835b5e88ecd94a06685f9611621be2554975f3e195ed79ff9e\n",
      "  Stored in directory: /root/.cache/pip/wheels/8b/09/da/c1f2859bcc86375dc972c5b6af4881b3603269bcc4c9be5d16\n",
      "Successfully built pyspark\n",
      "Installing collected packages: py4j, pyspark\n",
      "Successfully installed py4j-0.10.9 pyspark-3.0.2\n"
     ]
    }
   ],
   "source": [
    "!apt-get update\n",
    "!apt-get install openjdk-8-jdk-headless -qq > /dev/null\n",
    "import os\n",
    "os.environ[\"JAVA_HOME\"] = \"/usr/lib/jvm/java-8-openjdk-amd64\"\n",
    "!update-alternatives --set java /usr/lib/jvm/java-8-openjdk-amd64/jre/bin/java\n",
    "!java -version\n",
    "!pip install pyspark"
   ]
  },
  {
   "cell_type": "code",
   "execution_count": null,
   "metadata": {
    "colab": {
     "base_uri": "https://localhost:8080/"
    },
    "id": "OqZ7Vx6WvPCe",
    "outputId": "247e979a-0160-44a8-b24e-3783e413e691"
   },
   "outputs": [
    {
     "data": {
      "text/plain": [
       "[(1, ('02-01-1950', 2.8)),\n",
       " (2, ('03-01-1950', 2.8)),\n",
       " (3, ('04-01-1950', 2.8)),\n",
       " (4, ('05-01-1950', 2.8)),\n",
       " (5, ('06-01-1950', 2.8))]"
      ]
     },
     "execution_count": 182,
     "metadata": {
      "tags": []
     },
     "output_type": "execute_result"
    }
   ],
   "source": [
    "dolar = sc.textFile(\"DolarVerileri.txt\")\n",
    "def splitTake(line):\n",
    "    arr = line.split('\\t')\n",
    "    id=int(arr[0])\n",
    "    date=arr[1]\n",
    "    dolar=arr[2].replace(\".\",\"\").replace(\",\",\".\")\n",
    "    return (int(id),date,dolar)\n",
    "    \n",
    "\n",
    "dolar = dolar.map(lambda line : splitTake(line)).filter(lambda x: x[2]!=\"\")\n",
    "\n",
    "dolar = dolar.map(lambda x : (x[0] ,(x[1],float(x[2]))))\n",
    "\n",
    "dolar.take(5)"
   ]
  },
  {
   "cell_type": "code",
   "execution_count": null,
   "metadata": {
    "colab": {
     "base_uri": "https://localhost:8080/"
    },
    "id": "WN5f_kGCf_m9",
    "outputId": "dc2e153f-e328-4890-c7ae-0ca11ea5fe2b"
   },
   "outputs": [
    {
     "data": {
      "text/plain": [
       "[(0, ('02-01-1950', 2.8)),\n",
       " (1, ('03-01-1950', 2.8)),\n",
       " (2, ('04-01-1950', 2.8)),\n",
       " (3, ('05-01-1950', 2.8)),\n",
       " (4, ('06-01-1950', 2.8))]"
      ]
     },
     "execution_count": 181,
     "metadata": {
      "tags": []
     },
     "output_type": "execute_result"
    }
   ],
   "source": [
    "dolar = sc.textFile(\"DolarVerileri.txt\")\n",
    "\n",
    "\n",
    "def splitTake(line):\n",
    "    arr = line.split('\\t')\n",
    "    id=int(arr[0])\n",
    "    date=arr[1]\n",
    "    dolar=arr[2].replace(\".\",\"\").replace(\",\",\".\")\n",
    "    return (int(id),date,dolar)\n",
    "    \n",
    "dolar = dolar.map(lambda line : splitTake(line))\n",
    "\n",
    "dolar_2 = dolar.zipWithIndex()\n",
    "\n",
    "dolar_2=dolar_2.filter(lambda x: x[0][2]!=\"\")\n",
    "\n",
    "dolar_2 = dolar_2.map(lambda x : (x[1] ,(x[0][1],float(x[0][2]))))\n",
    "\n",
    "dolar_2.take(5)\n"
   ]
  },
  {
   "cell_type": "code",
   "execution_count": null,
   "metadata": {
    "colab": {
     "base_uri": "https://localhost:8080/"
    },
    "id": "VGDznjZYRW_t",
    "outputId": "1da0e4b4-f366-4c8e-ca40-4c886065b0a3"
   },
   "outputs": [
    {
     "data": {
      "text/plain": [
       "[(4, (('05-01-1950', 2.8), ('06-01-1950', 2.8)))]"
      ]
     },
     "execution_count": 183,
     "metadata": {
      "tags": []
     },
     "output_type": "execute_result"
    }
   ],
   "source": [
    "joın_dolars=dolar.join(dolar_2)\n",
    "joın_dolars.take(1)"
   ]
  },
  {
   "cell_type": "code",
   "execution_count": null,
   "metadata": {
    "colab": {
     "base_uri": "https://localhost:8080/"
    },
    "id": "OruZJyVKTHRB",
    "outputId": "b333f077-8031-4731-975a-20855d96a5a0"
   },
   "outputs": [
    {
     "data": {
      "text/plain": [
       "[('19-08-1960', 2.8, '22-08-1960', 9.0, 0.6888888888888889),\n",
       " ('24-01-1980', 35.0, '25-01-1980', 70.0, 0.5),\n",
       " ('07-08-1970', 9.0, '10-08-1970', 14.85, 0.3939393939393939),\n",
       " ('22-02-2001', 685391.0, '23-02-2001', 957879.0, 0.28447016794396784),\n",
       " ('05-04-1994', 23031.84, '06-04-1994', 31988.89, 0.2800050267452231),\n",
       " ('11-06-1979', 26.5, '12-06-1979', 35.0, 0.24285714285714285),\n",
       " ('28-02-1978', 19.25, '01-03-1978', 25.0, 0.23),\n",
       " ('06-04-1994', 31988.89, '07-04-1994', 39853.13, 0.1973305484412391),\n",
       " ('26-01-1994', 15155.63, '27-01-1994', 17215.5, 0.11965205773866579),\n",
       " ('23-02-2001', 957879.0, '26-02-2001', 1072988.0, 0.10727892576617819)]"
      ]
     },
     "execution_count": 187,
     "metadata": {
      "tags": []
     },
     "output_type": "execute_result"
    }
   ],
   "source": [
    "def fark_alma(data):\n",
    "  date_1=data[1][0][0]\n",
    "  dolar_1=data[1][0][1]\n",
    "  date_2=data[1][1][0]\n",
    "  dolar_2=data[1][1][1]\n",
    "  increase=(dolar_2-dolar_1)/dolar_2\n",
    "  return date_1,dolar_1,date_2,dolar_2,increase\n",
    "\n",
    "\n",
    "joın_dolars_2=joın_dolars.map(lambda line : fark_alma(line))\n",
    "joın_dolars_2.map(lambda x: (x[0],x[1],x[2],x[3],x[4])).sortBy(lambda x : x[4],ascending=False).take(10)                "
   ]
  }
 ],
 "metadata": {
  "colab": {
   "collapsed_sections": [],
   "name": "cigdem-uyumaz-Question5.ipynb",
   "provenance": [],
   "toc_visible": true
  },
  "kernelspec": {
   "display_name": "Python 3",
   "language": "python",
   "name": "python3"
  },
  "language_info": {
   "codemirror_mode": {
    "name": "ipython",
    "version": 3
   },
   "file_extension": ".py",
   "mimetype": "text/x-python",
   "name": "python",
   "nbconvert_exporter": "python",
   "pygments_lexer": "ipython3",
   "version": "3.8.5"
  }
 },
 "nbformat": 4,
 "nbformat_minor": 1
}
